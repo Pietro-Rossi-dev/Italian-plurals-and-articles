{
 "cells": [
  {
   "cell_type": "markdown",
   "id": "63e34cb6",
   "metadata": {},
   "source": [
    "### Welcome to the Italian plural and article helper\n",
    "\n",
    "\n",
    "Italian plurals adn articles seem much easier than they are in reality. Usethis tool to find out the correct way!\n",
    "\n",
    "In the cell below please do:\n",
    "1. Input an Italian word whose articles or plural you want to find. Be sure to include the proper graphical accent. E.g. not \"mela\", but \"méla\".\n",
    "2. Input the gender of the word you selected (\"masculine\" or \"feminine\").\n",
    "\n",
    "Note that composite words or certain exceptions might not be properly processed!"
   ]
  },
  {
   "cell_type": "code",
   "execution_count": 11,
   "id": "6f3ff714",
   "metadata": {},
   "outputs": [],
   "source": [
    "word = \"tràuma\"\n",
    "gender = \"masculine\""
   ]
  },
  {
   "cell_type": "markdown",
   "id": "8c49e8c8",
   "metadata": {},
   "source": [
    "Perfect, now run the cell below and scroll to the bottom to find your answer!"
   ]
  },
  {
   "cell_type": "code",
   "execution_count": null,
   "id": "f4b3d7e0",
   "metadata": {},
   "outputs": [
    {
     "name": "stdout",
     "output_type": "stream",
     "text": [
      "Singular: tràuma, plural: tràumi\n",
      "Type/Number          Singular             Plural              \n",
      "Indeterminative      un tràuma            dei tràumi          \n",
      "Determinative        il tràuma            i tràumi            \n"
     ]
    }
   ],
   "source": [
    "if gender not in (\"masculine\", \"feminine\"):\n",
    "    print(\"Invalid gender inserted.\")\n",
    "    exit()\n",
    "\n",
    "ecc_m_sing = [\"uòmo\", \"dìo\", \"làbbro\", \"ginòcchio\", \"tèrgo\", \"bràccio\", \"cìglio\", \"sopraccìglio\", \"orécchio\", \"òsso\", \"bùe\", \"uòvo\"]\n",
    "ecc_m_plur = [\"uòmini\", \"dèi\", [\"làbbra (f., del corpo)\", \"làbbri (m., di struttura)\"], [\"ginòcchia (f.)\", \"ginòcchi (m., desueto)\"], [\"tèrga (f.)\", \"tèrghi (m.)\"], [\"bràccia (f., del corpo)\", \"bràcci (m., di attrezzo)\"], [\"cìglia (f,. dell'occhio)\", \"cìgli (m., della strada)\"], [\"sopraccìglia (f.)\", \"sopraccìgli (m., desueto)\"], \"orécchie (f.)\", [\"òssa (f., insieme delle ossa di un corpo)\", \"òssi (m. insieme di ossi in quanto resti di cibo)\"], \"buòi\", \"uòva (f.)\"]\n",
    "ecc_f_sing = [\"àla\", \"barbàrie\", \"calvìzie\", \"èco\", \"màno\", \"spècie\"]\n",
    "ecc_f_plur = [\"àli\", \"barbàrie\", \"calvìzie\", \"èchi (m.)\", \"màni\", \"spècie\"]\n",
    "vowels = \"aàeèéiìoòóuù\"\n",
    "letters_1 = \"aàeèéiìoòóuùh\"\n",
    "letters_2 = \"aàeèéiìoòóuùhlr\"\n",
    "\n",
    "def plural(word, gender):\n",
    "    v = False\n",
    "    if gender == \"feminine\":\n",
    "        for i in range(len(ecc_f_sing)):\n",
    "                if word == ecc_f_sing[i]:\n",
    "                    n = i\n",
    "                    v = True\n",
    "                if v == True:\n",
    "                    plur = ecc_f_plur[n]\n",
    "                    break\n",
    "        if v == False:\n",
    "            if word.endswith((\"cia\", \"gia\")) and word[-4] not in vowels:\n",
    "                plur = word[:-2]+\"e\"\n",
    "            elif word1.endswith((\"ca\", \"ga\")):\n",
    "                plur = word[:-1]+\"he\"\n",
    "            elif word1.endswith(\"a\"):\n",
    "                plur = word[:-1]+\"e\"\n",
    "            elif word.endswith(\"ie\"):\n",
    "                plur = word[:-1]\n",
    "            elif word1.endswith(\"e\"):\n",
    "                plur = word[:-1]+\"i\"\n",
    "            elif word.endswith((\"à\", \"i\", \"ì\")):\n",
    "                plur = word\n",
    "            else:\n",
    "                plur = word\n",
    "    elif gender == \"masculine\":\n",
    "        for i in range(len(ecc_m_sing)):\n",
    "            if word == ecc_m_sing[i]:\n",
    "                n = i\n",
    "                v = True\n",
    "            if v == True:\n",
    "                plur = ecc_m_plur[n]\n",
    "                break\n",
    "        if v == False:\n",
    "            if word.endswith((\"co\", \"go\")) and word[-3] not in vowels:\n",
    "                plur = word[:-1]+\"hi\"\n",
    "            elif word.endswith(\"io\"):\n",
    "                plur = word[:-1]\n",
    "            elif word.endswith((\"o\", \"e\", \"a\")):\n",
    "                plur = word[:-1]+\"i\"\n",
    "            elif word.endswith((\"à\", \"ì\", \"ù\")):\n",
    "                plur = word\n",
    "    if isinstance(plur, list):\n",
    "        plur = \" / \".join(plur)\n",
    "    return plur\n",
    "    \n",
    "def articles(word, gender):\n",
    "    if gender == \"feminine\":\n",
    "        if (word[0] in letters_1 and word[0] != \"i\") or (word[0] == \"i\" and word[1] not in vowels):\n",
    "            art = [\"un'\", \"delle \", \"l'\", \"le \"]\n",
    "        else:\n",
    "            art = [\"una \", \"delle \", \"la \", \"le \"]\n",
    "    elif gender == \"masculine\":\n",
    "        if word[0] in (\"z\", \"x\", \"j\") or (word[0] not in letters_1 and word[1] not in letters_2) or (word[0] == \"i\" and word[1] in vowels):\n",
    "            art = [\"uno \", \"degli \", \"lo \", \"gli \"]\n",
    "        elif word[0] in letters_1:\n",
    "            art = [\"un \", \"degli \", \"l'\", \"gli \"]\n",
    "        else:\n",
    "            art = [\"un \", \"dei \", \"il \", \"i \"]\n",
    "    return art\n",
    "\n",
    "art = articles(word, gender)\n",
    "data = [\n",
    "        [\"Type/Number\", \"Singular\", \"Plural\"],\n",
    "        [\"Indeterminative\", art[0] + word, art[1] + plural(word, gender)],\n",
    "        [\"Determinative\", art[2] + word, art[3] + plural(word, gender)]\n",
    "        ]\n",
    "print(\"Singular: \"+ word + \", plural: \" + plural(word, gender))\n",
    "for row in data:\n",
    "    print(\"{:<20} {:<20} {:<20}\".format(*row))\n"
   ]
  }
 ],
 "metadata": {
  "kernelspec": {
   "display_name": "Python 3",
   "language": "python",
   "name": "python3"
  },
  "language_info": {
   "codemirror_mode": {
    "name": "ipython",
    "version": 3
   },
   "file_extension": ".py",
   "mimetype": "text/x-python",
   "name": "python",
   "nbconvert_exporter": "python",
   "pygments_lexer": "ipython3",
   "version": "3.11.9"
  }
 },
 "nbformat": 4,
 "nbformat_minor": 5
}
